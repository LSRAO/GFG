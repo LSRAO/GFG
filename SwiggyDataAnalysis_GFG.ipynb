{
 "cells": [
  {
   "cell_type": "code",
   "execution_count": 1,
   "id": "f858ad36",
   "metadata": {},
   "outputs": [],
   "source": [
    "import jmespath\n",
    "import requests\n",
    "import json\n",
    "import pandas as pd\n",
    "import numpy as np"
   ]
  },
  {
   "cell_type": "code",
   "execution_count": 2,
   "id": "b5dead5f",
   "metadata": {},
   "outputs": [
    {
     "name": "stdout",
     "output_type": "stream",
     "text": [
      "623\n"
     ]
    }
   ],
   "source": [
    "jFile = open(\"data.json\")\n",
    "data = json.load(jFile)\n",
    "\n",
    "#2. How many cities  (don't include subregions) where Swiggy is having their restaurants listed?\n",
    "print(len(data.keys()))\n",
    "\n",
    "# print(data.keys())"
   ]
  },
  {
   "cell_type": "code",
   "execution_count": 3,
   "id": "3da7cbb0",
   "metadata": {},
   "outputs": [
    {
     "name": "stdout",
     "output_type": "stream",
     "text": [
      "972\n"
     ]
    }
   ],
   "source": [
    "count=0\n",
    "for key in data.keys():\n",
    "    count+=len(data[key])-1\n",
    "#     print(len(data[key]))\n",
    "# 1. How many cities (including subregions) where Swiggy is having its restaurants listed?\n",
    "\n",
    "print(count)"
   ]
  },
  {
   "cell_type": "code",
   "execution_count": 4,
   "id": "4520f8d4",
   "metadata": {},
   "outputs": [
    {
     "name": "stdout",
     "output_type": "stream",
     "text": [
      "Indirapuram 1279\n"
     ]
    }
   ],
   "source": [
    "# 3. The Subregion of Delhi with the maximum number of restaurants listed on Swiggy?\n",
    "max = 0\n",
    "maxSr = \"\"\n",
    "for key in data['Delhi'].keys():\n",
    "    if max < len(data['Delhi'][key]['restaurants']):\n",
    "                 max = len(data['Delhi'][key]['restaurants'])\n",
    "                 maxSr = key\n",
    "print(maxSr, max)\n",
    "    "
   ]
  },
  {
   "cell_type": "code",
   "execution_count": 5,
   "id": "1e3d4765",
   "metadata": {},
   "outputs": [],
   "source": [
    "Cities = list(data.keys())\n",
    "# Cities"
   ]
  },
  {
   "cell_type": "code",
   "execution_count": 6,
   "id": "5616d526",
   "metadata": {},
   "outputs": [
    {
     "data": {
      "text/plain": [
       "(181404, 13)"
      ]
     },
     "execution_count": 6,
     "metadata": {},
     "output_type": "execute_result"
    }
   ],
   "source": [
    "Data = pd.DataFrame()                               # Create an Empty Dataframe\n",
    "\n",
    "for city in Cities:\n",
    "    try:\n",
    "        # Convert the city-wise restaurant data to pandas Dataframe\n",
    "        DF = pd.DataFrame(data[city]['restaurants']).T  \n",
    "        \n",
    "        # add City column for each restaurants in that city\n",
    "        City = [city for i in range(DF.shape[0])]\n",
    "        DF['City'] = City\n",
    "        \n",
    "        # Because no sub-region so considering city as sub-region\n",
    "        SubRegion = City                                          \n",
    "        DF['SubRegion'] = SubRegion\n",
    "        \n",
    "        # Concatenate to main Dataframe\n",
    "        Data = pd.concat([Data,DF])\n",
    "        \n",
    "    except:\n",
    "        \n",
    "        Subregions = list(data[city].keys())\n",
    "        for region in Subregions:\n",
    "            \n",
    "            # Convert the city-wise restaurant data to pandas Dataframe\n",
    "            DF = pd.DataFrame(data[city][region]['restaurants']).T\n",
    "            \n",
    "            # City\n",
    "            City = [city for i in range(DF.shape[0])]\n",
    "            # Add City column for each restaurants in that city\n",
    "            DF['City'] = City\n",
    "            \n",
    "            # Sub-region\n",
    "            SubRegion = [region for i in range(DF.shape[0])]\n",
    "            \n",
    "            # add sub-region column for each restaurants in that city\n",
    "            DF['SubRegion'] = SubRegion\n",
    "            Data = pd.concat([Data,DF])\n",
    "        \n",
    "Data.shape"
   ]
  },
  {
   "cell_type": "code",
   "execution_count": 7,
   "id": "eca64b59",
   "metadata": {},
   "outputs": [],
   "source": [
    "Data.to_csv(\"Swiggy.csv\")"
   ]
  },
  {
   "cell_type": "code",
   "execution_count": 8,
   "id": "9ddff12a",
   "metadata": {},
   "outputs": [],
   "source": [
    "df = pd.read_csv(\"Swiggy.csv\")"
   ]
  },
  {
   "cell_type": "code",
   "execution_count": 9,
   "id": "5029af3e",
   "metadata": {},
   "outputs": [
    {
     "name": "stdout",
     "output_type": "stream",
     "text": [
      "181404\n",
      "181404\n"
     ]
    }
   ],
   "source": [
    "menus = []\n",
    "for i in range(Data.shape[0]):\n",
    "    try:\n",
    "        menus.append(', '.join([key for key in Data.menu[i].keys()]))\n",
    "    except:\n",
    "        menus.append(np.NaN)\n",
    "print(len(menus))\n",
    "print(df.shape[0])\n",
    "\n",
    "df['menu'] = menus"
   ]
  },
  {
   "cell_type": "code",
   "execution_count": 10,
   "id": "434b0bae",
   "metadata": {},
   "outputs": [
    {
     "data": {
      "text/plain": [
       "Index(['id', 'Restaurant', 'rating', 'rating_count', 'cost', 'address',\n",
       "       'cuisine', 'lic_no', 'menu', 'link', 'City', 'SubRegion', 'type',\n",
       "       'price'],\n",
       "      dtype='object')"
      ]
     },
     "execution_count": 10,
     "metadata": {},
     "output_type": "execute_result"
    }
   ],
   "source": [
    "df = df.rename(columns={'Unnamed: 0':'id', 'name':'Restaurant'})\n",
    "df.drop_duplicates(subset='id', keep='first', inplace = True)\n",
    "#df.set_index('id', inplace=True)\n",
    "df.shape\n",
    "df.columns"
   ]
  },
  {
   "cell_type": "code",
   "execution_count": 11,
   "id": "c56737d8",
   "metadata": {},
   "outputs": [],
   "source": [
    "df['cost'] = df['cost'].str.replace('₹', '').astype(float)"
   ]
  },
  {
   "cell_type": "code",
   "execution_count": 12,
   "id": "33fe1813",
   "metadata": {},
   "outputs": [
    {
     "name": "stdout",
     "output_type": "stream",
     "text": [
      "City\n",
      "Hinganghat    18962.437500\n",
      "North-goa       468.964045\n",
      "Gangtok         466.666667\n",
      "Mussoorie       460.000000\n",
      "South-goa       442.857143\n",
      "Name: cost, dtype: float64\n"
     ]
    }
   ],
   "source": [
    "# 4. Name the top 5 Most Expensive Cities in the Datasets.\n",
    "top_expensive_cities = df.groupby('City')['cost'].mean().sort_values(ascending=False).head(5)\n",
    "\n",
    "print(top_expensive_cities)"
   ]
  },
  {
   "cell_type": "code",
   "execution_count": 13,
   "id": "b516d520",
   "metadata": {},
   "outputs": [
    {
     "name": "stdout",
     "output_type": "stream",
     "text": [
      "Top 5 Restaurants with Maximum Ratings:\n",
      "                            Restaurant  rating\n",
      "757              Pablo Premium Kitchen     5.0\n",
      "1022              The best diet corner     5.0\n",
      "10962                 Creams and Bites     5.0\n",
      "11012     Bansal's Thali & Combo Meals     5.0\n",
      "11444  GOWHEY- HEALTHY DESSERT COMPANY     5.0\n",
      "\n",
      "Top 5 Restaurants with Minimum Ratings:\n",
      "                              Restaurant  rating\n",
      "36944            Ice Cream and Shakes Co     1.0\n",
      "19752                    Persian Delight     1.1\n",
      "40027  SHAWARMA WRAP - ROLL YOUR SECRETS     1.2\n",
      "57710                     THE TARI STORY     1.2\n",
      "75201       The Hyderabadi Biryani House     1.2\n"
     ]
    }
   ],
   "source": [
    "# 5. List out the top 5 Restaurants with Maximum & minimum ratings throughout the dataset.\n",
    "\n",
    "df['rating'] = pd.to_numeric(df['rating'], errors='coerce')\n",
    "\n",
    "# Get top 5 restaurants with maximum ratings\n",
    "top_rated_restaurants = df.nlargest(5, 'rating')\n",
    "\n",
    "# Get top 5 restaurants with minimum ratings\n",
    "bottom_rated_restaurants = df.nsmallest(5, 'rating')\n",
    "\n",
    "print(\"Top 5 Restaurants with Maximum Ratings:\")\n",
    "print(top_rated_restaurants[['Restaurant', 'rating']])\n",
    "\n",
    "print(\"\\nTop 5 Restaurants with Minimum Ratings:\")\n",
    "print(bottom_rated_restaurants[['Restaurant', 'rating']])"
   ]
  },
  {
   "cell_type": "code",
   "execution_count": 14,
   "id": "bd94885e",
   "metadata": {},
   "outputs": [
    {
     "name": "stdout",
     "output_type": "stream",
     "text": [
      "Top 5 Cities with the Highest Number of Restaurants:\n",
      "Bangalore    15358\n",
      "Delhi        14147\n",
      "Pune         12472\n",
      "Hyderabad    11912\n",
      "Chennai      10089\n",
      "Name: City, dtype: int64\n"
     ]
    }
   ],
   "source": [
    "# 6. Name of top 5 cities with the highest number of restaurants listed.\n",
    "\n",
    "top_cities_restaurants = df['City'].value_counts().head(5)\n",
    "\n",
    "print(\"Top 5 Cities with the Highest Number of Restaurants:\")\n",
    "print(top_cities_restaurants)"
   ]
  },
  {
   "cell_type": "code",
   "execution_count": 15,
   "id": "29932a74",
   "metadata": {},
   "outputs": [
    {
     "name": "stdout",
     "output_type": "stream",
     "text": [
      "Top 10 Cities with the Highest Number of Restaurants:\n",
      "Bangalore     15358\n",
      "Delhi         14147\n",
      "Pune          12472\n",
      "Hyderabad     11912\n",
      "Chennai       10089\n",
      "Kolkata        8418\n",
      "Mumbai         6734\n",
      "Jaipur         5567\n",
      "Ahmedabad      3809\n",
      "Chandigarh     3348\n",
      "Name: City, dtype: int64\n"
     ]
    }
   ],
   "source": [
    "# 7. Top 10 cities as per the number of restaurants listed?\n",
    "top_cities_restaurants = df['City'].value_counts().head(10)\n",
    "\n",
    "print(\"Top 10 Cities with the Highest Number of Restaurants:\")\n",
    "print(top_cities_restaurants)"
   ]
  },
  {
   "cell_type": "code",
   "execution_count": 16,
   "id": "d51d864b",
   "metadata": {},
   "outputs": [
    {
     "name": "stdout",
     "output_type": "stream",
     "text": [
      "Top 5 Most Popular Restaurants in Pune:\n",
      "                                Restaurant  rating rating_count\n",
      "146602                      The Samosa Man     5.0  20+ ratings\n",
      "148082                       HRX by Eatfit     5.0  20+ ratings\n",
      "153561                     CIRCLE OF CRUST     5.0  20+ ratings\n",
      "154116  Smoodies & Juices: Your Fruitfully     5.0  20+ ratings\n",
      "154277                       HRX by Eatfit     5.0  20+ ratings\n"
     ]
    }
   ],
   "source": [
    "# 8. Name the top 5 Most Popular Restaurants in Pune.\n",
    "pune_restaurants = df[df['City'] == 'Pune']  # Filter restaurants in Pune\n",
    "pune_popular_restaurants = pune_restaurants.sort_values(by=['rating', 'rating_count'], ascending=[False, False]).head(5)\n",
    "\n",
    "print(\"Top 5 Most Popular Restaurants in Pune:\")\n",
    "print(pune_popular_restaurants[['Restaurant', 'rating', 'rating_count']])"
   ]
  },
  {
   "cell_type": "code",
   "execution_count": 17,
   "id": "dc4d1212",
   "metadata": {},
   "outputs": [
    {
     "name": "stdout",
     "output_type": "stream",
     "text": [
      "SubRegion in Delhi with the Least Expensive Restaurant:\n",
      "Dilshad Gardens\n"
     ]
    }
   ],
   "source": [
    "# 9. Which SubRegion in Delhi is having the least expensive restaurant in terms of cost?\n",
    "delhi_restaurants = df[df['City'] == 'Delhi']  # Filter restaurants in Delhi\n",
    "cheapest_delhi_subregion = delhi_restaurants.sort_values(by='cost').iloc[0]['SubRegion']\n",
    "\n",
    "print(\"SubRegion in Delhi with the Least Expensive Restaurant:\")\n",
    "print(cheapest_delhi_subregion)"
   ]
  },
  {
   "cell_type": "code",
   "execution_count": 18,
   "id": "0cf92d99",
   "metadata": {},
   "outputs": [
    {
     "name": "stdout",
     "output_type": "stream",
     "text": [
      "Top 5 Most Popular Restaurant Chains in India:\n",
      "                                        Restaurant  rating  \\\n",
      "29716                 Dessert Studio by Third Wave     5.0   \n",
      "85894                                Rollie Rollie     5.0   \n",
      "50114  JUST CREAMERY - Artisanal Healthy Ice Cream     5.0   \n",
      "64485                              Mamaji PavBhaji     5.0   \n",
      "7353                                     Apna food     5.0   \n",
      "\n",
      "                                            rating_count  \n",
      "29716  Too Few RatingsToo Few RatingsToo Few RatingsT...  \n",
      "85894  Too Few RatingsToo Few RatingsToo Few Ratings2...  \n",
      "50114   Too Few Ratings20+ ratings20+ ratings20+ ratings  \n",
      "64485              Too Few Ratings20+ ratings20+ ratings  \n",
      "7353                          Too Few Ratings20+ ratings  \n"
     ]
    }
   ],
   "source": [
    "# 10. Top 5 most popular restaurant chains in India?\n",
    "restaurant_chains = df.groupby('Restaurant').agg({'rating': 'mean', 'rating_count': 'sum'}).reset_index()\n",
    "top_popular_chains = restaurant_chains.sort_values(by=['rating', 'rating_count'], ascending=[False, False]).head(5)\n",
    "\n",
    "print(\"Top 5 Most Popular Restaurant Chains in India:\")\n",
    "print(top_popular_chains[['Restaurant', 'rating', 'rating_count']])"
   ]
  },
  {
   "cell_type": "code",
   "execution_count": 19,
   "id": "697dae1f",
   "metadata": {},
   "outputs": [
    {
     "name": "stdout",
     "output_type": "stream",
     "text": [
      "Restaurant in Pune with the Most Number of People Visiting:\n",
      "FARM DA DHABA NH8\n"
     ]
    }
   ],
   "source": [
    "# 11. Which restaurant in Pune has the most number of people visiting?\n",
    "pune_restaurants = df[df['City'] == 'Pune']  # Filter restaurants in Pune\n",
    "most_visited_pune_restaurant = pune_restaurants.sort_values(by='rating_count', ascending=False).iloc[0]['Restaurant']\n",
    "\n",
    "print(\"Restaurant in Pune with the Most Number of People Visiting:\")\n",
    "print(most_visited_pune_restaurant)"
   ]
  },
  {
   "cell_type": "code",
   "execution_count": 20,
   "id": "c8a6cb28",
   "metadata": {},
   "outputs": [
    {
     "name": "stdout",
     "output_type": "stream",
     "text": [
      "Top 10 Restaurants with Maximum Ratings in Bangalore:\n",
      "                         Restaurant  rating\n",
      "25119  Provenance Deli and Desserts     5.0\n",
      "14452                      Minus 30     5.0\n",
      "20659            Shahenshah Biryani     5.0\n",
      "20683                       Bowl 99     5.0\n",
      "22375                Bombay 2 Delhi     5.0\n",
      "20091                 HRX by Eatfit     5.0\n",
      "13350                 HUNGER TREATS     5.0\n",
      "13374                    Snack Ride     5.0\n",
      "14265            Fresh crunch pizza     5.0\n",
      "17807                  PEDRO DE GOA     5.0\n"
     ]
    }
   ],
   "source": [
    "# 12. Top 10 Restaurants with Maximum Ratings in Banglore\n",
    "bangalore_restaurants = df[df['City'] == 'Bangalore']  # Filter restaurants in Bangalore\n",
    "top_rated_bangalore_restaurants = bangalore_restaurants.sort_values(by='rating', ascending=False).head(10)\n",
    "\n",
    "print(\"Top 10 Restaurants with Maximum Ratings in Bangalore:\")\n",
    "print(top_rated_bangalore_restaurants[['Restaurant', 'rating']])"
   ]
  },
  {
   "cell_type": "code",
   "execution_count": 21,
   "id": "666c2b85",
   "metadata": {},
   "outputs": [
    {
     "name": "stdout",
     "output_type": "stream",
     "text": [
      "Top 10 Restaurants in Patna by Rating:\n",
      "                                             Restaurant  rating\n",
      "145066  Kwality Walls Frozen Dessert and Ice Cream Shop     4.6\n",
      "145266                                    Slurpy Shakes     4.6\n",
      "145300                    Cupcake Bliss Cake & Desserts     4.5\n",
      "145323                                     Burger It Up     4.5\n",
      "145254                      Kouzina Kafe The Food Court     4.5\n",
      "145555                                   GARAGE KITCHEN     4.5\n",
      "145283                                 The Dessert Zone     4.4\n",
      "145332                       Pure Veg Meals by Lunchbox     4.4\n",
      "145509                                 KINGDOM OF MOMOS     4.4\n",
      "145272                                  Indiana Burgers     4.4\n"
     ]
    }
   ],
   "source": [
    "# 13. Top 10 Restaurant in Patna w.r.t rating \n",
    "patna_restaurants = df[df['City'] == 'Patna']  # Filter restaurants in Patna\n",
    "top_rated_patna_restaurants = patna_restaurants.sort_values(by='rating', ascending=False).head(10)\n",
    "\n",
    "print(\"Top 10 Restaurants in Patna by Rating:\")\n",
    "print(top_rated_patna_restaurants[['Restaurant', 'rating']])"
   ]
  },
  {
   "cell_type": "code",
   "execution_count": null,
   "id": "391b73ee",
   "metadata": {},
   "outputs": [],
   "source": []
  }
 ],
 "metadata": {
  "kernelspec": {
   "display_name": "Python 3 (ipykernel)",
   "language": "python",
   "name": "python3"
  },
  "language_info": {
   "codemirror_mode": {
    "name": "ipython",
    "version": 3
   },
   "file_extension": ".py",
   "mimetype": "text/x-python",
   "name": "python",
   "nbconvert_exporter": "python",
   "pygments_lexer": "ipython3",
   "version": "3.9.16"
  }
 },
 "nbformat": 4,
 "nbformat_minor": 5
}
